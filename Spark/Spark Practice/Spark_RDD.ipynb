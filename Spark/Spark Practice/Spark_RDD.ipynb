{
 "cells": [
  {
   "cell_type": "code",
   "execution_count": 17,
   "metadata": {},
   "outputs": [],
   "source": [
    "from __future__ import division\n",
    "import findspark\n",
    "findspark.init()\n",
    "from pyspark import SparkContext, SQLContext, SparkConf\n",
    "from pyspark.storagelevel import StorageLevel\n",
    "import numpy as np\n",
    "from decimal import Decimal\n",
    "import matplotlib.pyplot as plt; plt.rcdefaults()"
   ]
  },
  {
   "cell_type": "code",
   "execution_count": 18,
   "metadata": {},
   "outputs": [],
   "source": [
    "sc = SparkContext.getOrCreate();"
   ]
  },
  {
   "cell_type": "markdown",
   "metadata": {},
   "source": [
    "Use when you are coding on notepad"
   ]
  },
  {
   "cell_type": "code",
   "execution_count": 19,
   "metadata": {},
   "outputs": [],
   "source": [
    "#sparkconf = SparkConf().setAppName(\"ODI\").setMaster(\"local[3]\")\n",
    "#sc = SparkContext(conf=sparkconf)"
   ]
  },
  {
   "cell_type": "code",
   "execution_count": 20,
   "metadata": {},
   "outputs": [],
   "source": [
    "captains_odi = sc.textFile( \"C:/Users/Admin/Spark/Spark Practice/captains_ODI.csv\",4,use_unicode=False).repartition(6)"
   ]
  },
  {
   "cell_type": "code",
   "execution_count": 21,
   "metadata": {},
   "outputs": [
    {
     "data": {
      "text/plain": [
       "[b'Streak H H,Zimbabwe,1993-2005,68,18,47,3,29',\n",
       " b'Taylor M A,Australia,1989-1997,67,36,30,1,34',\n",
       " b'Atapattu M S,Sri Lanka,1990-2007,63,35,27,1,32',\n",
       " b'Javed Miandad,Pakistan,1975-1996,62,26,33,3,29',\n",
       " b'Strauss A J,England,2003-2011,62,27,33,2,31',\n",
       " b'Waqar Younis,Pakistan,1989-2003,62,37,23,2,33',\n",
       " b'Mendis L R D,Sri Lanka,1975-1989,61,11,46,4,29',\n",
       " b'Porterfield W T S*,Ireland,2006-,61,28,27,6,30',\n",
       " b'Howarth G P,New Zealand,1975-1985,60,31,26,3,23',\n",
       " b'Vaughan M P,England,2001-2007,60,32,22,6,28']"
      ]
     },
     "execution_count": 21,
     "metadata": {},
     "output_type": "execute_result"
    }
   ],
   "source": [
    "captains_odi.take(10)"
   ]
  },
  {
   "cell_type": "code",
   "execution_count": 30,
   "metadata": {},
   "outputs": [],
   "source": [
    "fields = (\"Player\", \"Country\", \"Career\", \"Matches\", \"Won\", \"Lost\", \"Tied\", \"Toss\" )\n",
    "from collections import namedtuple\n",
    "Captain = namedtuple( 'Captain', fields )\n",
    "def parseRecs(line):\n",
    "    fields = line.split(\",\")\n",
    "    return Captain( fields[0], fields[1], fields[2], int(fields[3]), \n",
    "                   int(fields[4]), int(fields[5]), int(fields[6]), int(fields[7]))\n",
    "Captains = captains_odi.map(lambda rec:parseRecs(rec))"
   ]
  },
  {
   "cell_type": "code",
   "execution_count": 1,
   "metadata": {},
   "outputs": [],
   "source": [
    "Captains.take(10)"
   ]
  },
  {
   "cell_type": "code",
   "execution_count": 2,
   "metadata": {},
   "outputs": [],
   "source": [
    "captains_100 = Captains.filter(lambda rec:rec.matches > 100)\n",
    "#Captains.take(10)\n",
    "captains_more_wins = captains_100.filter(lambda rec: rec.won > rec.lost)\n",
    "countries = captains_more_wins.map(lambda rec:(rec.country, rec.matches))\n",
    "matches_countries = countries.reduceByKey(lambda a, b: a + b)\n",
    "matches_countries.collect()"
   ]
  },
  {
   "cell_type": "code",
   "execution_count": 3,
   "metadata": {},
   "outputs": [],
   "source": [
    "captains_1001 = captains_100.filter(lambda rec:rec[1]>0)\n",
    "captains_100_percent_wins = captains_1001.map(\n",
    "    lambda rec:(rec.name, float(rec.won/rec.matches)))\n",
    "result = captains_100_percent_wins.sortBy(lambda rec:rec[1], ascending=False).collect()"
   ]
  },
  {
   "cell_type": "code",
   "execution_count": 4,
   "metadata": {},
   "outputs": [],
   "source": [
    "myList=[]\n",
    "myList1=[]\n",
    "\n",
    "for (a,b) in result:\n",
    "    myList.append(a)\n",
    "    myList1.append(b)\n",
    "plt.pie(myList1, labels=myList)\n",
    "\n",
    "plt.axis('equal')\n",
    "plt.show()"
   ]
  },
  {
   "cell_type": "code",
   "execution_count": 5,
   "metadata": {},
   "outputs": [],
   "source": [
    "counts=text_file.flatMap(lambda line: line.split(\"\")).map(lambda word:(word,l)).reduceByKey(lambda a,b:a+b)"
   ]
  },
  {
   "cell_type": "code",
   "execution_count": null,
   "metadata": {},
   "outputs": [],
   "source": []
  },
  {
   "cell_type": "code",
   "execution_count": null,
   "metadata": {},
   "outputs": [],
   "source": []
  },
  {
   "cell_type": "code",
   "execution_count": null,
   "metadata": {},
   "outputs": [],
   "source": []
  },
  {
   "cell_type": "code",
   "execution_count": null,
   "metadata": {},
   "outputs": [],
   "source": []
  }
 ],
 "metadata": {
  "kernelspec": {
   "display_name": "Python 3",
   "language": "python",
   "name": "python3"
  },
  "language_info": {
   "codemirror_mode": {
    "name": "ipython",
    "version": 3
   },
   "file_extension": ".py",
   "mimetype": "text/x-python",
   "name": "python",
   "nbconvert_exporter": "python",
   "pygments_lexer": "ipython3",
   "version": "3.7.4"
  }
 },
 "nbformat": 4,
 "nbformat_minor": 2
}
